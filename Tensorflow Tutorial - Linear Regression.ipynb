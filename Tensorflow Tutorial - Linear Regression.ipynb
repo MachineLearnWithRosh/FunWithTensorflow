{
  "nbformat": 4,
  "nbformat_minor": 0,
  "metadata": {
    "colab": {
      "name": "Untitled6.ipynb",
      "provenance": [],
      "authorship_tag": "ABX9TyOeVGOWVFtKBmWwm7kNvTcA",
      "include_colab_link": true
    },
    "kernelspec": {
      "name": "python3",
      "display_name": "Python 3"
    },
    "accelerator": "GPU"
  },
  "cells": [
    {
      "cell_type": "markdown",
      "metadata": {
        "id": "view-in-github",
        "colab_type": "text"
      },
      "source": [
        "<a href=\"https://colab.research.google.com/github/MachineLearnWithRosh/FunWithTensorflow/blob/master/Tensorflow%20Tutorial%20-%20Linear%20Regression.ipynb\" target=\"_parent\"><img src=\"https://colab.research.google.com/assets/colab-badge.svg\" alt=\"Open In Colab\"/></a>"
      ]
    },
    {
      "cell_type": "code",
      "metadata": {
        "id": "40llAsFGUL1j",
        "colab_type": "code",
        "colab": {}
      },
      "source": [
        "import tensorflow as tf\n",
        "import pandas as pd\n",
        "import numpy as np\n",
        "\n",
        "import matplotlib.pyplot as plt"
      ],
      "execution_count": 0,
      "outputs": []
    },
    {
      "cell_type": "code",
      "metadata": {
        "id": "0WTapCbhU7hm",
        "colab_type": "code",
        "colab": {}
      },
      "source": [
        "x_data = np.linspace(0.0,10.0,1000000)\n",
        "\n",
        "noise = np.random.randn(len(x_data)) #this returns the samples of Standard Normal Distribution"
      ],
      "execution_count": 0,
      "outputs": []
    },
    {
      "cell_type": "code",
      "metadata": {
        "id": "VSciCJGOVu_4",
        "colab_type": "code",
        "colab": {}
      },
      "source": [
        "#y = mx + c ; m=0.5, c=5\n",
        "y_true = (0.5 * x_data) + 5 + noise"
      ],
      "execution_count": 0,
      "outputs": []
    },
    {
      "cell_type": "code",
      "metadata": {
        "id": "v_UcuaOCWdV4",
        "colab_type": "code",
        "colab": {}
      },
      "source": [
        "x_df = pd.DataFrame(data=x_data, columns=['X_data'])\n",
        "\n",
        "y_df = pd.DataFrame(data=y_true, columns=['Y'])"
      ],
      "execution_count": 0,
      "outputs": []
    },
    {
      "cell_type": "code",
      "metadata": {
        "id": "WGSaruosW80N",
        "colab_type": "code",
        "colab": {
          "base_uri": "https://localhost:8080/",
          "height": 248
        },
        "outputId": "7a1f1d50-d4a8-4828-b627-ae7408609cc0"
      },
      "source": [
        "print(x_df.head(5))\n",
        "\n",
        "print(\"=\"*45)\n",
        "\n",
        "print(y_df.head(5))"
      ],
      "execution_count": 62,
      "outputs": [
        {
          "output_type": "stream",
          "text": [
            "    X_data\n",
            "0  0.00000\n",
            "1  0.00001\n",
            "2  0.00002\n",
            "3  0.00003\n",
            "4  0.00004\n",
            "=============================================\n",
            "          Y\n",
            "0  4.710603\n",
            "1  5.549861\n",
            "2  4.185125\n",
            "3  3.744980\n",
            "4  4.579921\n"
          ],
          "name": "stdout"
        }
      ]
    },
    {
      "cell_type": "code",
      "metadata": {
        "id": "3CGEL7eOXFRZ",
        "colab_type": "code",
        "colab": {
          "base_uri": "https://localhost:8080/",
          "height": 194
        },
        "outputId": "84484177-4ce3-4be1-bf01-e8a089f8f00f"
      },
      "source": [
        "df=pd.concat([x_df,y_df],axis=1)\n",
        "\n",
        "df.head(5)"
      ],
      "execution_count": 63,
      "outputs": [
        {
          "output_type": "execute_result",
          "data": {
            "text/html": [
              "<div>\n",
              "<style scoped>\n",
              "    .dataframe tbody tr th:only-of-type {\n",
              "        vertical-align: middle;\n",
              "    }\n",
              "\n",
              "    .dataframe tbody tr th {\n",
              "        vertical-align: top;\n",
              "    }\n",
              "\n",
              "    .dataframe thead th {\n",
              "        text-align: right;\n",
              "    }\n",
              "</style>\n",
              "<table border=\"1\" class=\"dataframe\">\n",
              "  <thead>\n",
              "    <tr style=\"text-align: right;\">\n",
              "      <th></th>\n",
              "      <th>X_data</th>\n",
              "      <th>Y</th>\n",
              "    </tr>\n",
              "  </thead>\n",
              "  <tbody>\n",
              "    <tr>\n",
              "      <th>0</th>\n",
              "      <td>0.00000</td>\n",
              "      <td>4.710603</td>\n",
              "    </tr>\n",
              "    <tr>\n",
              "      <th>1</th>\n",
              "      <td>0.00001</td>\n",
              "      <td>5.549861</td>\n",
              "    </tr>\n",
              "    <tr>\n",
              "      <th>2</th>\n",
              "      <td>0.00002</td>\n",
              "      <td>4.185125</td>\n",
              "    </tr>\n",
              "    <tr>\n",
              "      <th>3</th>\n",
              "      <td>0.00003</td>\n",
              "      <td>3.744980</td>\n",
              "    </tr>\n",
              "    <tr>\n",
              "      <th>4</th>\n",
              "      <td>0.00004</td>\n",
              "      <td>4.579921</td>\n",
              "    </tr>\n",
              "  </tbody>\n",
              "</table>\n",
              "</div>"
            ],
            "text/plain": [
              "    X_data         Y\n",
              "0  0.00000  4.710603\n",
              "1  0.00001  5.549861\n",
              "2  0.00002  4.185125\n",
              "3  0.00003  3.744980\n",
              "4  0.00004  4.579921"
            ]
          },
          "metadata": {
            "tags": []
          },
          "execution_count": 63
        }
      ]
    },
    {
      "cell_type": "code",
      "metadata": {
        "id": "7XJy8NzLXgpE",
        "colab_type": "code",
        "colab": {
          "base_uri": "https://localhost:8080/",
          "height": 298
        },
        "outputId": "5fd13bb9-9e25-4874-a183-dd55893e6b78"
      },
      "source": [
        "df.sample(n=250).plot(kind=\"scatter\",x=\"X_data\",y=\"Y\")"
      ],
      "execution_count": 64,
      "outputs": [
        {
          "output_type": "execute_result",
          "data": {
            "text/plain": [
              "<matplotlib.axes._subplots.AxesSubplot at 0x7ff6304ab208>"
            ]
          },
          "metadata": {
            "tags": []
          },
          "execution_count": 64
        },
        {
          "output_type": "display_data",
          "data": {
            "image/png": "[encoded data removed]",
            "text/plain": [
              "<Figure size 432x288 with 1 Axes>"
            ]
          },
          "metadata": {
            "tags": []
          }
        }
      ]
    },
    {
      "cell_type": "code",
      "metadata": {
        "id": "dqqFChtAX6-1",
        "colab_type": "code",
        "colab": {}
      },
      "source": [
        "batch_size=8"
      ],
      "execution_count": 0,
      "outputs": []
    },
    {
      "cell_type": "code",
      "metadata": {
        "id": "g9GnyZJ3Y5zk",
        "colab_type": "code",
        "colab": {}
      },
      "source": [
        "m=tf.Variable(0.5)\n",
        "b=tf.Variable(1.0)"
      ],
      "execution_count": 0,
      "outputs": []
    },
    {
      "cell_type": "code",
      "metadata": {
        "id": "JFKAY1QxZC2q",
        "colab_type": "code",
        "colab": {}
      },
      "source": [
        "xph=tf.placeholder(tf.float32,[batch_size])\n",
        "yph=tf.placeholder(tf.float32,[batch_size])"
      ],
      "execution_count": 0,
      "outputs": []
    },
    {
      "cell_type": "code",
      "metadata": {
        "id": "WXif5Q8dZaLv",
        "colab_type": "code",
        "colab": {}
      },
      "source": [
        "#model\n",
        "y_model = m*xph + b"
      ],
      "execution_count": 0,
      "outputs": []
    },
    {
      "cell_type": "code",
      "metadata": {
        "id": "HZhRETqQaEOk",
        "colab_type": "code",
        "colab": {}
      },
      "source": [
        "#Cost Function\n",
        "error = tf.reduce_sum(tf.square(y_model-yph))"
      ],
      "execution_count": 0,
      "outputs": []
    },
    {
      "cell_type": "code",
      "metadata": {
        "id": "U7O3-YYZagem",
        "colab_type": "code",
        "colab": {}
      },
      "source": [
        "optimizer = tf.train.GradientDescentOptimizer(learning_rate=0.001)\n",
        "train = optimizer.minimize(error)  "
      ],
      "execution_count": 0,
      "outputs": []
    },
    {
      "cell_type": "code",
      "metadata": {
        "id": "b7E6NoqFc2bU",
        "colab_type": "code",
        "colab": {}
      },
      "source": [
        "init=tf.global_variables_initializer()"
      ],
      "execution_count": 0,
      "outputs": []
    },
    {
      "cell_type": "code",
      "metadata": {
        "id": "44kkCbI5bItR",
        "colab_type": "code",
        "colab": {}
      },
      "source": [
        "with tf.Session() as sess:\n",
        "  sess.run(init)\n",
        "\n",
        "  batches=10\n",
        "\n",
        "  for i in range(batches):\n",
        "    rand_int=np.random.randint(len(x_data),size=batch_size)\n",
        "    feed={xph:x_data[rand_int], yph:y_true[rand_int]}\n",
        "    sess.run(train, feed_dict=feed)\n",
        "  model_m,model_b = sess.run([m,b])\n"
      ],
      "execution_count": 0,
      "outputs": []
    },
    {
      "cell_type": "code",
      "metadata": {
        "id": "0ZewTc49cx4t",
        "colab_type": "code",
        "colab": {
          "base_uri": "https://localhost:8080/",
          "height": 35
        },
        "outputId": "95260418-8889-4640-a7b5-fcaba4c2c937"
      },
      "source": [
        "model_b"
      ],
      "execution_count": 88,
      "outputs": [
        {
          "output_type": "execute_result",
          "data": {
            "text/plain": [
              "1.2672727"
            ]
          },
          "metadata": {
            "tags": []
          },
          "execution_count": 88
        }
      ]
    },
    {
      "cell_type": "code",
      "metadata": {
        "id": "4BxnELq-dDW_",
        "colab_type": "code",
        "colab": {
          "base_uri": "https://localhost:8080/",
          "height": 35
        },
        "outputId": "350331fa-0fed-474f-f676-3fa13c44079f"
      },
      "source": [
        "model_m"
      ],
      "execution_count": 89,
      "outputs": [
        {
          "output_type": "execute_result",
          "data": {
            "text/plain": [
              "1.0444959"
            ]
          },
          "metadata": {
            "tags": []
          },
          "execution_count": 89
        }
      ]
    },
    {
      "cell_type": "code",
      "metadata": {
        "id": "rao5KZwidFFj",
        "colab_type": "code",
        "colab": {}
      },
      "source": [
        "y_hat = model_m*x_data + model_m"
      ],
      "execution_count": 0,
      "outputs": []
    },
    {
      "cell_type": "code",
      "metadata": {
        "id": "ZlXU0a-ndPVn",
        "colab_type": "code",
        "colab": {
          "base_uri": "https://localhost:8080/",
          "height": 298
        },
        "outputId": "055bdbcc-a952-4970-a31c-53b899cf64d5"
      },
      "source": [
        "df.sample(n=250).plot(kind=\"scatter\",x=\"X_data\",y=\"Y\")\n",
        "plt.plot(x_data,y_hat,'r')"
      ],
      "execution_count": 91,
      "outputs": [
        {
          "output_type": "execute_result",
          "data": {
            "text/plain": [
              "[<matplotlib.lines.Line2D at 0x7ff6302f4ac8>]"
            ]
          },
          "metadata": {
            "tags": []
          },
          "execution_count": 91
        },
        {
          "output_type": "display_data",
          "data": {
            "image/png": "[encoded data removed]",
            "text/plain": [
              "<Figure size 432x288 with 1 Axes>"
            ]
          },
          "metadata": {
            "tags": []
          }
        }
      ]
    },
    {
      "cell_type": "code",
      "metadata": {
        "id": "s4BPGrv9dpve",
        "colab_type": "code",
        "colab": {}
      },
      "source": [
        "#Estimator API\n",
        "\n",
        "feat_cols = [tf.feature_column.numeric_column('x',shape=[1])]"
      ],
      "execution_count": 0,
      "outputs": []
    },
    {
      "cell_type": "code",
      "metadata": {
        "id": "41x5bu4TfcfT",
        "colab_type": "code",
        "colab": {}
      },
      "source": [
        "estimator = tf.estimator.LinearRegressor(feature_columns=feat_cols)"
      ],
      "execution_count": 0,
      "outputs": []
    }
  ]
}