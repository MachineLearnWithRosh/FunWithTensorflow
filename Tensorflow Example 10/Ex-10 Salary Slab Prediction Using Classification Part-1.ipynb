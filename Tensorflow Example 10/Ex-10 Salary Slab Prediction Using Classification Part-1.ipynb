{
 "cells": [
  {
   "cell_type": "markdown",
   "metadata": {},
   "source": [
    "# Ex-10 Salary Slab Prediction Using Classification Part-1"
   ]
  },
  {
   "cell_type": "code",
   "execution_count": 1,
   "metadata": {},
   "outputs": [],
   "source": [
    "import pandas as pd"
   ]
  },
  {
   "cell_type": "code",
   "execution_count": 2,
   "metadata": {},
   "outputs": [],
   "source": [
    "census = pd.read_csv('Salary_data.csv')"
   ]
  },
  {
   "cell_type": "code",
   "execution_count": 3,
   "metadata": {},
   "outputs": [
    {
     "data": {
      "text/html": [
       "<div>\n",
       "<style scoped>\n",
       "    .dataframe tbody tr th:only-of-type {\n",
       "        vertical-align: middle;\n",
       "    }\n",
       "\n",
       "    .dataframe tbody tr th {\n",
       "        vertical-align: top;\n",
       "    }\n",
       "\n",
       "    .dataframe thead th {\n",
       "        text-align: right;\n",
       "    }\n",
       "</style>\n",
       "<table border=\"1\" class=\"dataframe\">\n",
       "  <thead>\n",
       "    <tr style=\"text-align: right;\">\n",
       "      <th></th>\n",
       "      <th>age</th>\n",
       "      <th>workclass</th>\n",
       "      <th>education</th>\n",
       "      <th>education_num</th>\n",
       "      <th>marital_status</th>\n",
       "      <th>occupation</th>\n",
       "      <th>relationship</th>\n",
       "      <th>race</th>\n",
       "      <th>gender</th>\n",
       "      <th>capital_gain</th>\n",
       "      <th>capital_loss</th>\n",
       "      <th>hours_per_week</th>\n",
       "      <th>native_country</th>\n",
       "      <th>income_bracket</th>\n",
       "    </tr>\n",
       "  </thead>\n",
       "  <tbody>\n",
       "    <tr>\n",
       "      <th>0</th>\n",
       "      <td>39</td>\n",
       "      <td>State-gov</td>\n",
       "      <td>Bachelors</td>\n",
       "      <td>13</td>\n",
       "      <td>Never-married</td>\n",
       "      <td>Adm-clerical</td>\n",
       "      <td>Not-in-family</td>\n",
       "      <td>White</td>\n",
       "      <td>Male</td>\n",
       "      <td>2174</td>\n",
       "      <td>0</td>\n",
       "      <td>40</td>\n",
       "      <td>United-States</td>\n",
       "      <td>&lt;=50K</td>\n",
       "    </tr>\n",
       "    <tr>\n",
       "      <th>1</th>\n",
       "      <td>50</td>\n",
       "      <td>Self-emp-not-inc</td>\n",
       "      <td>Bachelors</td>\n",
       "      <td>13</td>\n",
       "      <td>Married-civ-spouse</td>\n",
       "      <td>Exec-managerial</td>\n",
       "      <td>Husband</td>\n",
       "      <td>White</td>\n",
       "      <td>Male</td>\n",
       "      <td>0</td>\n",
       "      <td>0</td>\n",
       "      <td>13</td>\n",
       "      <td>United-States</td>\n",
       "      <td>&lt;=50K</td>\n",
       "    </tr>\n",
       "    <tr>\n",
       "      <th>2</th>\n",
       "      <td>38</td>\n",
       "      <td>Private</td>\n",
       "      <td>HS-grad</td>\n",
       "      <td>9</td>\n",
       "      <td>Divorced</td>\n",
       "      <td>Handlers-cleaners</td>\n",
       "      <td>Not-in-family</td>\n",
       "      <td>White</td>\n",
       "      <td>Male</td>\n",
       "      <td>0</td>\n",
       "      <td>0</td>\n",
       "      <td>40</td>\n",
       "      <td>United-States</td>\n",
       "      <td>&lt;=50K</td>\n",
       "    </tr>\n",
       "    <tr>\n",
       "      <th>3</th>\n",
       "      <td>53</td>\n",
       "      <td>Private</td>\n",
       "      <td>11th</td>\n",
       "      <td>7</td>\n",
       "      <td>Married-civ-spouse</td>\n",
       "      <td>Handlers-cleaners</td>\n",
       "      <td>Husband</td>\n",
       "      <td>Black</td>\n",
       "      <td>Male</td>\n",
       "      <td>0</td>\n",
       "      <td>0</td>\n",
       "      <td>40</td>\n",
       "      <td>United-States</td>\n",
       "      <td>&lt;=50K</td>\n",
       "    </tr>\n",
       "    <tr>\n",
       "      <th>4</th>\n",
       "      <td>28</td>\n",
       "      <td>Private</td>\n",
       "      <td>Bachelors</td>\n",
       "      <td>13</td>\n",
       "      <td>Married-civ-spouse</td>\n",
       "      <td>Prof-specialty</td>\n",
       "      <td>Wife</td>\n",
       "      <td>Black</td>\n",
       "      <td>Female</td>\n",
       "      <td>0</td>\n",
       "      <td>0</td>\n",
       "      <td>40</td>\n",
       "      <td>Cuba</td>\n",
       "      <td>&lt;=50K</td>\n",
       "    </tr>\n",
       "  </tbody>\n",
       "</table>\n",
       "</div>"
      ],
      "text/plain": [
       "   age          workclass   education  education_num       marital_status  \\\n",
       "0   39          State-gov   Bachelors             13        Never-married   \n",
       "1   50   Self-emp-not-inc   Bachelors             13   Married-civ-spouse   \n",
       "2   38            Private     HS-grad              9             Divorced   \n",
       "3   53            Private        11th              7   Married-civ-spouse   \n",
       "4   28            Private   Bachelors             13   Married-civ-spouse   \n",
       "\n",
       "           occupation    relationship    race   gender  capital_gain  \\\n",
       "0        Adm-clerical   Not-in-family   White     Male          2174   \n",
       "1     Exec-managerial         Husband   White     Male             0   \n",
       "2   Handlers-cleaners   Not-in-family   White     Male             0   \n",
       "3   Handlers-cleaners         Husband   Black     Male             0   \n",
       "4      Prof-specialty            Wife   Black   Female             0   \n",
       "\n",
       "   capital_loss  hours_per_week  native_country income_bracket  \n",
       "0             0              40   United-States          <=50K  \n",
       "1             0              13   United-States          <=50K  \n",
       "2             0              40   United-States          <=50K  \n",
       "3             0              40   United-States          <=50K  \n",
       "4             0              40            Cuba          <=50K  "
      ]
     },
     "execution_count": 3,
     "metadata": {},
     "output_type": "execute_result"
    }
   ],
   "source": [
    "census.head()"
   ]
  },
  {
   "cell_type": "code",
   "execution_count": 4,
   "metadata": {},
   "outputs": [
    {
     "data": {
      "text/plain": [
       "array([' <=50K', ' >50K'], dtype=object)"
      ]
     },
     "execution_count": 4,
     "metadata": {},
     "output_type": "execute_result"
    }
   ],
   "source": [
    "census['income_bracket'].unique()"
   ]
  },
  {
   "cell_type": "code",
   "execution_count": 5,
   "metadata": {},
   "outputs": [],
   "source": [
    "def label_fix(label):\n",
    "    if label == ' <=50K':\n",
    "        return 0\n",
    "    else:\n",
    "        return 1"
   ]
  },
  {
   "cell_type": "code",
   "execution_count": 6,
   "metadata": {},
   "outputs": [],
   "source": [
    "census['income_bracket'] = census['income_bracket'].apply(label_fix)"
   ]
  },
  {
   "cell_type": "code",
   "execution_count": 7,
   "metadata": {},
   "outputs": [
    {
     "data": {
      "text/html": [
       "<div>\n",
       "<style scoped>\n",
       "    .dataframe tbody tr th:only-of-type {\n",
       "        vertical-align: middle;\n",
       "    }\n",
       "\n",
       "    .dataframe tbody tr th {\n",
       "        vertical-align: top;\n",
       "    }\n",
       "\n",
       "    .dataframe thead th {\n",
       "        text-align: right;\n",
       "    }\n",
       "</style>\n",
       "<table border=\"1\" class=\"dataframe\">\n",
       "  <thead>\n",
       "    <tr style=\"text-align: right;\">\n",
       "      <th></th>\n",
       "      <th>age</th>\n",
       "      <th>workclass</th>\n",
       "      <th>education</th>\n",
       "      <th>education_num</th>\n",
       "      <th>marital_status</th>\n",
       "      <th>occupation</th>\n",
       "      <th>relationship</th>\n",
       "      <th>race</th>\n",
       "      <th>gender</th>\n",
       "      <th>capital_gain</th>\n",
       "      <th>capital_loss</th>\n",
       "      <th>hours_per_week</th>\n",
       "      <th>native_country</th>\n",
       "      <th>income_bracket</th>\n",
       "    </tr>\n",
       "  </thead>\n",
       "  <tbody>\n",
       "    <tr>\n",
       "      <th>0</th>\n",
       "      <td>39</td>\n",
       "      <td>State-gov</td>\n",
       "      <td>Bachelors</td>\n",
       "      <td>13</td>\n",
       "      <td>Never-married</td>\n",
       "      <td>Adm-clerical</td>\n",
       "      <td>Not-in-family</td>\n",
       "      <td>White</td>\n",
       "      <td>Male</td>\n",
       "      <td>2174</td>\n",
       "      <td>0</td>\n",
       "      <td>40</td>\n",
       "      <td>United-States</td>\n",
       "      <td>0</td>\n",
       "    </tr>\n",
       "    <tr>\n",
       "      <th>1</th>\n",
       "      <td>50</td>\n",
       "      <td>Self-emp-not-inc</td>\n",
       "      <td>Bachelors</td>\n",
       "      <td>13</td>\n",
       "      <td>Married-civ-spouse</td>\n",
       "      <td>Exec-managerial</td>\n",
       "      <td>Husband</td>\n",
       "      <td>White</td>\n",
       "      <td>Male</td>\n",
       "      <td>0</td>\n",
       "      <td>0</td>\n",
       "      <td>13</td>\n",
       "      <td>United-States</td>\n",
       "      <td>0</td>\n",
       "    </tr>\n",
       "    <tr>\n",
       "      <th>2</th>\n",
       "      <td>38</td>\n",
       "      <td>Private</td>\n",
       "      <td>HS-grad</td>\n",
       "      <td>9</td>\n",
       "      <td>Divorced</td>\n",
       "      <td>Handlers-cleaners</td>\n",
       "      <td>Not-in-family</td>\n",
       "      <td>White</td>\n",
       "      <td>Male</td>\n",
       "      <td>0</td>\n",
       "      <td>0</td>\n",
       "      <td>40</td>\n",
       "      <td>United-States</td>\n",
       "      <td>0</td>\n",
       "    </tr>\n",
       "    <tr>\n",
       "      <th>3</th>\n",
       "      <td>53</td>\n",
       "      <td>Private</td>\n",
       "      <td>11th</td>\n",
       "      <td>7</td>\n",
       "      <td>Married-civ-spouse</td>\n",
       "      <td>Handlers-cleaners</td>\n",
       "      <td>Husband</td>\n",
       "      <td>Black</td>\n",
       "      <td>Male</td>\n",
       "      <td>0</td>\n",
       "      <td>0</td>\n",
       "      <td>40</td>\n",
       "      <td>United-States</td>\n",
       "      <td>0</td>\n",
       "    </tr>\n",
       "    <tr>\n",
       "      <th>4</th>\n",
       "      <td>28</td>\n",
       "      <td>Private</td>\n",
       "      <td>Bachelors</td>\n",
       "      <td>13</td>\n",
       "      <td>Married-civ-spouse</td>\n",
       "      <td>Prof-specialty</td>\n",
       "      <td>Wife</td>\n",
       "      <td>Black</td>\n",
       "      <td>Female</td>\n",
       "      <td>0</td>\n",
       "      <td>0</td>\n",
       "      <td>40</td>\n",
       "      <td>Cuba</td>\n",
       "      <td>0</td>\n",
       "    </tr>\n",
       "  </tbody>\n",
       "</table>\n",
       "</div>"
      ],
      "text/plain": [
       "   age          workclass   education  education_num       marital_status  \\\n",
       "0   39          State-gov   Bachelors             13        Never-married   \n",
       "1   50   Self-emp-not-inc   Bachelors             13   Married-civ-spouse   \n",
       "2   38            Private     HS-grad              9             Divorced   \n",
       "3   53            Private        11th              7   Married-civ-spouse   \n",
       "4   28            Private   Bachelors             13   Married-civ-spouse   \n",
       "\n",
       "           occupation    relationship    race   gender  capital_gain  \\\n",
       "0        Adm-clerical   Not-in-family   White     Male          2174   \n",
       "1     Exec-managerial         Husband   White     Male             0   \n",
       "2   Handlers-cleaners   Not-in-family   White     Male             0   \n",
       "3   Handlers-cleaners         Husband   Black     Male             0   \n",
       "4      Prof-specialty            Wife   Black   Female             0   \n",
       "\n",
       "   capital_loss  hours_per_week  native_country  income_bracket  \n",
       "0             0              40   United-States               0  \n",
       "1             0              13   United-States               0  \n",
       "2             0              40   United-States               0  \n",
       "3             0              40   United-States               0  \n",
       "4             0              40            Cuba               0  "
      ]
     },
     "execution_count": 7,
     "metadata": {},
     "output_type": "execute_result"
    }
   ],
   "source": [
    "census.head()"
   ]
  },
  {
   "cell_type": "code",
   "execution_count": 8,
   "metadata": {},
   "outputs": [],
   "source": [
    "from sklearn.model_selection import train_test_split"
   ]
  },
  {
   "cell_type": "code",
   "execution_count": 9,
   "metadata": {},
   "outputs": [],
   "source": [
    "x_data = census.drop('income_bracket',axis=1)"
   ]
  },
  {
   "cell_type": "code",
   "execution_count": 10,
   "metadata": {},
   "outputs": [],
   "source": [
    "y_labels = census['income_bracket']"
   ]
  },
  {
   "cell_type": "code",
   "execution_count": 11,
   "metadata": {},
   "outputs": [],
   "source": [
    "X_train, X_test, y_train, y_test = train_test_split(x_data, y_labels, test_size=0.3, random_state=101)"
   ]
  },
  {
   "cell_type": "code",
   "execution_count": 12,
   "metadata": {},
   "outputs": [
    {
     "data": {
      "text/html": [
       "<div>\n",
       "<style scoped>\n",
       "    .dataframe tbody tr th:only-of-type {\n",
       "        vertical-align: middle;\n",
       "    }\n",
       "\n",
       "    .dataframe tbody tr th {\n",
       "        vertical-align: top;\n",
       "    }\n",
       "\n",
       "    .dataframe thead th {\n",
       "        text-align: right;\n",
       "    }\n",
       "</style>\n",
       "<table border=\"1\" class=\"dataframe\">\n",
       "  <thead>\n",
       "    <tr style=\"text-align: right;\">\n",
       "      <th></th>\n",
       "      <th>age</th>\n",
       "      <th>workclass</th>\n",
       "      <th>education</th>\n",
       "      <th>education_num</th>\n",
       "      <th>marital_status</th>\n",
       "      <th>occupation</th>\n",
       "      <th>relationship</th>\n",
       "      <th>race</th>\n",
       "      <th>gender</th>\n",
       "      <th>capital_gain</th>\n",
       "      <th>capital_loss</th>\n",
       "      <th>hours_per_week</th>\n",
       "      <th>native_country</th>\n",
       "    </tr>\n",
       "  </thead>\n",
       "  <tbody>\n",
       "    <tr>\n",
       "      <th>20895</th>\n",
       "      <td>22</td>\n",
       "      <td>Private</td>\n",
       "      <td>HS-grad</td>\n",
       "      <td>9</td>\n",
       "      <td>Never-married</td>\n",
       "      <td>Adm-clerical</td>\n",
       "      <td>Own-child</td>\n",
       "      <td>White</td>\n",
       "      <td>Female</td>\n",
       "      <td>0</td>\n",
       "      <td>0</td>\n",
       "      <td>28</td>\n",
       "      <td>United-States</td>\n",
       "    </tr>\n",
       "    <tr>\n",
       "      <th>3384</th>\n",
       "      <td>47</td>\n",
       "      <td>Private</td>\n",
       "      <td>HS-grad</td>\n",
       "      <td>9</td>\n",
       "      <td>Married-civ-spouse</td>\n",
       "      <td>Machine-op-inspct</td>\n",
       "      <td>Wife</td>\n",
       "      <td>Black</td>\n",
       "      <td>Female</td>\n",
       "      <td>15024</td>\n",
       "      <td>0</td>\n",
       "      <td>40</td>\n",
       "      <td>United-States</td>\n",
       "    </tr>\n",
       "    <tr>\n",
       "      <th>1832</th>\n",
       "      <td>46</td>\n",
       "      <td>Local-gov</td>\n",
       "      <td>Some-college</td>\n",
       "      <td>10</td>\n",
       "      <td>Married-civ-spouse</td>\n",
       "      <td>Prof-specialty</td>\n",
       "      <td>Husband</td>\n",
       "      <td>White</td>\n",
       "      <td>Male</td>\n",
       "      <td>0</td>\n",
       "      <td>0</td>\n",
       "      <td>24</td>\n",
       "      <td>United-States</td>\n",
       "    </tr>\n",
       "    <tr>\n",
       "      <th>18919</th>\n",
       "      <td>46</td>\n",
       "      <td>State-gov</td>\n",
       "      <td>Some-college</td>\n",
       "      <td>10</td>\n",
       "      <td>Divorced</td>\n",
       "      <td>Adm-clerical</td>\n",
       "      <td>Unmarried</td>\n",
       "      <td>White</td>\n",
       "      <td>Female</td>\n",
       "      <td>0</td>\n",
       "      <td>0</td>\n",
       "      <td>48</td>\n",
       "      <td>United-States</td>\n",
       "    </tr>\n",
       "    <tr>\n",
       "      <th>31685</th>\n",
       "      <td>60</td>\n",
       "      <td>Private</td>\n",
       "      <td>HS-grad</td>\n",
       "      <td>9</td>\n",
       "      <td>Married-civ-spouse</td>\n",
       "      <td>Adm-clerical</td>\n",
       "      <td>Husband</td>\n",
       "      <td>White</td>\n",
       "      <td>Male</td>\n",
       "      <td>0</td>\n",
       "      <td>0</td>\n",
       "      <td>40</td>\n",
       "      <td>United-States</td>\n",
       "    </tr>\n",
       "  </tbody>\n",
       "</table>\n",
       "</div>"
      ],
      "text/plain": [
       "       age   workclass      education  education_num       marital_status  \\\n",
       "20895   22     Private        HS-grad              9        Never-married   \n",
       "3384    47     Private        HS-grad              9   Married-civ-spouse   \n",
       "1832    46   Local-gov   Some-college             10   Married-civ-spouse   \n",
       "18919   46   State-gov   Some-college             10             Divorced   \n",
       "31685   60     Private        HS-grad              9   Married-civ-spouse   \n",
       "\n",
       "               occupation relationship    race   gender  capital_gain  \\\n",
       "20895        Adm-clerical    Own-child   White   Female             0   \n",
       "3384    Machine-op-inspct         Wife   Black   Female         15024   \n",
       "1832       Prof-specialty      Husband   White     Male             0   \n",
       "18919        Adm-clerical    Unmarried   White   Female             0   \n",
       "31685        Adm-clerical      Husband   White     Male             0   \n",
       "\n",
       "       capital_loss  hours_per_week  native_country  \n",
       "20895             0              28   United-States  \n",
       "3384              0              40   United-States  \n",
       "1832              0              24   United-States  \n",
       "18919             0              48   United-States  \n",
       "31685             0              40   United-States  "
      ]
     },
     "execution_count": 12,
     "metadata": {},
     "output_type": "execute_result"
    }
   ],
   "source": [
    "X_train.head()"
   ]
  },
  {
   "cell_type": "code",
   "execution_count": 13,
   "metadata": {},
   "outputs": [
    {
     "data": {
      "text/plain": [
       "20895    0\n",
       "3384     1\n",
       "1832     0\n",
       "18919    0\n",
       "31685    0\n",
       "Name: income_bracket, dtype: int64"
      ]
     },
     "execution_count": 13,
     "metadata": {},
     "output_type": "execute_result"
    }
   ],
   "source": [
    "y_train.head()"
   ]
  },
  {
   "cell_type": "code",
   "execution_count": 14,
   "metadata": {},
   "outputs": [
    {
     "data": {
      "text/plain": [
       "Index(['age', 'workclass', 'education', 'education_num', 'marital_status',\n",
       "       'occupation', 'relationship', 'race', 'gender', 'capital_gain',\n",
       "       'capital_loss', 'hours_per_week', 'native_country', 'income_bracket'],\n",
       "      dtype='object')"
      ]
     },
     "execution_count": 14,
     "metadata": {},
     "output_type": "execute_result"
    }
   ],
   "source": [
    "census.columns"
   ]
  },
  {
   "cell_type": "code",
   "execution_count": 15,
   "metadata": {},
   "outputs": [],
   "source": [
    "import tensorflow as tf"
   ]
  },
  {
   "cell_type": "code",
   "execution_count": 16,
   "metadata": {},
   "outputs": [],
   "source": [
    "gender = tf.feature_column.categorical_column_with_vocabulary_list(\"gender\",[\"Female\",\"Male\"])"
   ]
  },
  {
   "cell_type": "code",
   "execution_count": 18,
   "metadata": {},
   "outputs": [],
   "source": [
    "occupation = tf.feature_column.categorical_column_with_hash_bucket(\"occupation\", hash_bucket_size=1000)\n",
    "marital_status = tf.feature_column.categorical_column_with_hash_bucket(\"marital_status\", hash_bucket_size=1000)\n",
    "relationship = tf.feature_column.categorical_column_with_hash_bucket(\"relationship\", hash_bucket_size=1000)\n",
    "education = tf.feature_column.categorical_column_with_hash_bucket(\"education\", hash_bucket_size=1000)\n",
    "workclass = tf.feature_column.categorical_column_with_hash_bucket(\"workclass\", hash_bucket_size=1000)\n",
    "native_country = tf.feature_column.categorical_column_with_hash_bucket(\"native_country\", hash_bucket_size=1000)"
   ]
  },
  {
   "cell_type": "code",
   "execution_count": 19,
   "metadata": {},
   "outputs": [],
   "source": [
    "age = tf.feature_column.numeric_column(\"age\")\n",
    "education_num = tf.feature_column.numeric_column(\"education_num\")\n",
    "capital_gain = tf.feature_column.numeric_column(\"capital_gain\")\n",
    "capital_loss = tf.feature_column.numeric_column(\"capital_loss\")\n",
    "hours_per_week = tf.feature_column.numeric_column(\"hours_per_week\")"
   ]
  },
  {
   "cell_type": "code",
   "execution_count": 20,
   "metadata": {},
   "outputs": [],
   "source": [
    "feat_cols = [gender,occupation,marital_status,relationship,education,workclass,native_country,age,\n",
    "            education_num,capital_gain,capital_loss,hours_per_week]"
   ]
  },
  {
   "cell_type": "code",
   "execution_count": 21,
   "metadata": {},
   "outputs": [],
   "source": [
    "input_func = tf.estimator.inputs.pandas_input_fn(x=X_train,y=y_train,batch_size=100,num_epochs=None,shuffle=True)"
   ]
  },
  {
   "cell_type": "code",
   "execution_count": 22,
   "metadata": {},
   "outputs": [
    {
     "name": "stdout",
     "output_type": "stream",
     "text": [
      "INFO:tensorflow:Using default config.\n",
      "WARNING:tensorflow:Using temporary folder as model directory: C:\\Users\\MYLENO~1\\AppData\\Local\\Temp\\tmpwfccwn6e\n",
      "INFO:tensorflow:Using config: {'_model_dir': 'C:\\\\Users\\\\MYLENO~1\\\\AppData\\\\Local\\\\Temp\\\\tmpwfccwn6e', '_tf_random_seed': None, '_save_summary_steps': 100, '_save_checkpoints_steps': None, '_save_checkpoints_secs': 600, '_session_config': None, '_keep_checkpoint_max': 5, '_keep_checkpoint_every_n_hours': 10000, '_log_step_count_steps': 100, '_train_distribute': None, '_device_fn': None, '_service': None, '_cluster_spec': <tensorflow.python.training.server_lib.ClusterSpec object at 0x0000016E483267B8>, '_task_type': 'worker', '_task_id': 0, '_global_id_in_cluster': 0, '_master': '', '_evaluation_master': '', '_is_chief': True, '_num_ps_replicas': 0, '_num_worker_replicas': 1}\n"
     ]
    }
   ],
   "source": [
    "model = tf.estimator.LinearClassifier(feature_columns=feat_cols)"
   ]
  },
  {
   "cell_type": "code",
   "execution_count": 23,
   "metadata": {
    "collapsed": true
   },
   "outputs": [
    {
     "name": "stdout",
     "output_type": "stream",
     "text": [
      "INFO:tensorflow:Calling model_fn.\n",
      "INFO:tensorflow:Done calling model_fn.\n",
      "INFO:tensorflow:Create CheckpointSaverHook.\n",
      "INFO:tensorflow:Graph was finalized.\n",
      "INFO:tensorflow:Running local_init_op.\n",
      "INFO:tensorflow:Done running local_init_op.\n",
      "INFO:tensorflow:Saving checkpoints for 0 into C:\\Users\\MYLENO~1\\AppData\\Local\\Temp\\tmpwfccwn6e\\model.ckpt.\n",
      "INFO:tensorflow:loss = 69.31472, step = 1\n",
      "INFO:tensorflow:global_step/sec: 76.4624\n",
      "INFO:tensorflow:loss = 312.37802, step = 101 (1.314 sec)\n",
      "INFO:tensorflow:global_step/sec: 147.121\n",
      "INFO:tensorflow:loss = 167.441, step = 201 (0.680 sec)\n",
      "INFO:tensorflow:global_step/sec: 123.39\n",
      "INFO:tensorflow:loss = 245.50854, step = 301 (0.808 sec)\n",
      "INFO:tensorflow:global_step/sec: 147.042\n",
      "INFO:tensorflow:loss = 108.68245, step = 401 (0.681 sec)\n",
      "INFO:tensorflow:global_step/sec: 150.961\n",
      "INFO:tensorflow:loss = 342.6651, step = 501 (0.660 sec)\n",
      "INFO:tensorflow:global_step/sec: 112.274\n",
      "INFO:tensorflow:loss = 428.67072, step = 601 (0.892 sec)\n",
      "INFO:tensorflow:global_step/sec: 107.69\n",
      "INFO:tensorflow:loss = 122.008194, step = 701 (0.929 sec)\n",
      "INFO:tensorflow:global_step/sec: 142.006\n",
      "INFO:tensorflow:loss = 30.619818, step = 801 (0.706 sec)\n",
      "INFO:tensorflow:global_step/sec: 147.617\n",
      "INFO:tensorflow:loss = 80.84651, step = 901 (0.673 sec)\n",
      "INFO:tensorflow:global_step/sec: 147.444\n",
      "INFO:tensorflow:loss = 65.21536, step = 1001 (0.678 sec)\n",
      "INFO:tensorflow:global_step/sec: 150.436\n",
      "INFO:tensorflow:loss = 152.34048, step = 1101 (0.667 sec)\n",
      "INFO:tensorflow:global_step/sec: 147.67\n",
      "INFO:tensorflow:loss = 117.89625, step = 1201 (0.680 sec)\n",
      "INFO:tensorflow:global_step/sec: 140.406\n",
      "INFO:tensorflow:loss = 204.03896, step = 1301 (0.709 sec)\n",
      "INFO:tensorflow:global_step/sec: 123.178\n",
      "INFO:tensorflow:loss = 139.22017, step = 1401 (0.822 sec)\n",
      "INFO:tensorflow:global_step/sec: 121.341\n",
      "INFO:tensorflow:loss = 145.5789, step = 1501 (0.819 sec)\n",
      "INFO:tensorflow:global_step/sec: 110.725\n",
      "INFO:tensorflow:loss = 59.2621, step = 1601 (0.902 sec)\n",
      "INFO:tensorflow:global_step/sec: 115.668\n",
      "INFO:tensorflow:loss = 32.849537, step = 1701 (0.861 sec)\n",
      "INFO:tensorflow:global_step/sec: 145.782\n",
      "INFO:tensorflow:loss = 185.39607, step = 1801 (0.686 sec)\n",
      "INFO:tensorflow:global_step/sec: 145.245\n",
      "INFO:tensorflow:loss = 157.27425, step = 1901 (0.687 sec)\n",
      "INFO:tensorflow:global_step/sec: 147.573\n",
      "INFO:tensorflow:loss = 100.48266, step = 2001 (0.681 sec)\n",
      "INFO:tensorflow:global_step/sec: 140.792\n",
      "INFO:tensorflow:loss = 258.8882, step = 2101 (0.711 sec)\n",
      "INFO:tensorflow:global_step/sec: 155.214\n",
      "INFO:tensorflow:loss = 243.43262, step = 2201 (0.641 sec)\n",
      "INFO:tensorflow:global_step/sec: 147.963\n",
      "INFO:tensorflow:loss = 91.92997, step = 2301 (0.678 sec)\n",
      "INFO:tensorflow:global_step/sec: 153.032\n",
      "INFO:tensorflow:loss = 40.9254, step = 2401 (0.652 sec)\n",
      "INFO:tensorflow:global_step/sec: 151.4\n",
      "INFO:tensorflow:loss = 40.316032, step = 2501 (0.662 sec)\n",
      "INFO:tensorflow:global_step/sec: 148.639\n",
      "INFO:tensorflow:loss = 290.96103, step = 2601 (0.672 sec)\n",
      "INFO:tensorflow:global_step/sec: 127.807\n",
      "INFO:tensorflow:loss = 36.9509, step = 2701 (0.786 sec)\n",
      "INFO:tensorflow:global_step/sec: 87.556\n",
      "INFO:tensorflow:loss = 70.7361, step = 2801 (1.140 sec)\n",
      "INFO:tensorflow:global_step/sec: 93.0063\n",
      "INFO:tensorflow:loss = 32.32064, step = 2901 (1.082 sec)\n",
      "INFO:tensorflow:global_step/sec: 119.057\n",
      "INFO:tensorflow:loss = 60.812756, step = 3001 (0.831 sec)\n",
      "INFO:tensorflow:global_step/sec: 149.593\n",
      "INFO:tensorflow:loss = 30.947458, step = 3101 (0.670 sec)\n",
      "INFO:tensorflow:global_step/sec: 145.666\n",
      "INFO:tensorflow:loss = 82.67605, step = 3201 (0.682 sec)\n",
      "INFO:tensorflow:global_step/sec: 143.135\n",
      "INFO:tensorflow:loss = 73.564735, step = 3301 (0.705 sec)\n",
      "INFO:tensorflow:global_step/sec: 115.649\n",
      "INFO:tensorflow:loss = 40.90819, step = 3401 (0.859 sec)\n",
      "INFO:tensorflow:global_step/sec: 102.427\n",
      "INFO:tensorflow:loss = 55.732254, step = 3501 (0.982 sec)\n",
      "INFO:tensorflow:global_step/sec: 127.435\n",
      "INFO:tensorflow:loss = 107.206696, step = 3601 (0.784 sec)\n",
      "INFO:tensorflow:global_step/sec: 145.415\n",
      "INFO:tensorflow:loss = 120.555336, step = 3701 (0.685 sec)\n",
      "INFO:tensorflow:global_step/sec: 142.628\n",
      "INFO:tensorflow:loss = 25.57698, step = 3801 (0.699 sec)\n",
      "INFO:tensorflow:global_step/sec: 120.15\n",
      "INFO:tensorflow:loss = 48.136356, step = 3901 (0.838 sec)\n",
      "INFO:tensorflow:global_step/sec: 140.379\n",
      "INFO:tensorflow:loss = 35.60043, step = 4001 (0.706 sec)\n",
      "INFO:tensorflow:global_step/sec: 142.621\n",
      "INFO:tensorflow:loss = 72.32456, step = 4101 (0.702 sec)\n",
      "INFO:tensorflow:global_step/sec: 145.674\n",
      "INFO:tensorflow:loss = 38.70069, step = 4201 (0.689 sec)\n",
      "INFO:tensorflow:global_step/sec: 142.271\n",
      "INFO:tensorflow:loss = 119.13307, step = 4301 (0.701 sec)\n",
      "INFO:tensorflow:global_step/sec: 147.121\n",
      "INFO:tensorflow:loss = 29.633629, step = 4401 (0.682 sec)\n",
      "INFO:tensorflow:global_step/sec: 138.502\n",
      "INFO:tensorflow:loss = 43.310013, step = 4501 (0.718 sec)\n",
      "INFO:tensorflow:global_step/sec: 111.523\n",
      "INFO:tensorflow:loss = 31.306293, step = 4601 (0.905 sec)\n",
      "INFO:tensorflow:global_step/sec: 92.1747\n",
      "INFO:tensorflow:loss = 75.48455, step = 4701 (1.082 sec)\n",
      "INFO:tensorflow:global_step/sec: 73.4278\n",
      "INFO:tensorflow:loss = 114.699165, step = 4801 (1.366 sec)\n",
      "INFO:tensorflow:global_step/sec: 96.4049\n",
      "INFO:tensorflow:loss = 111.320946, step = 4901 (1.034 sec)\n",
      "INFO:tensorflow:global_step/sec: 107.899\n",
      "INFO:tensorflow:loss = 41.48302, step = 5001 (0.923 sec)\n",
      "INFO:tensorflow:global_step/sec: 145.198\n",
      "INFO:tensorflow:loss = 58.993572, step = 5101 (0.690 sec)\n",
      "INFO:tensorflow:global_step/sec: 144.438\n",
      "INFO:tensorflow:loss = 28.775078, step = 5201 (0.695 sec)\n",
      "INFO:tensorflow:global_step/sec: 119.756\n",
      "INFO:tensorflow:loss = 37.689175, step = 5301 (0.829 sec)\n",
      "INFO:tensorflow:global_step/sec: 118.37\n",
      "INFO:tensorflow:loss = 29.528246, step = 5401 (0.845 sec)\n",
      "INFO:tensorflow:global_step/sec: 117.267\n",
      "INFO:tensorflow:loss = 34.791092, step = 5501 (0.851 sec)\n",
      "INFO:tensorflow:global_step/sec: 147.916\n",
      "INFO:tensorflow:loss = 49.399273, step = 5601 (0.676 sec)\n",
      "INFO:tensorflow:global_step/sec: 104.89\n",
      "INFO:tensorflow:loss = 21.498138, step = 5701 (0.963 sec)\n",
      "INFO:tensorflow:global_step/sec: 95.5099\n",
      "INFO:tensorflow:loss = 265.01236, step = 5801 (1.039 sec)\n",
      "INFO:tensorflow:global_step/sec: 93.0078\n",
      "INFO:tensorflow:loss = 32.85674, step = 5901 (1.080 sec)\n",
      "INFO:tensorflow:global_step/sec: 113.936\n",
      "INFO:tensorflow:loss = 203.35475, step = 6001 (0.876 sec)\n",
      "INFO:tensorflow:global_step/sec: 129.458\n",
      "INFO:tensorflow:loss = 117.806755, step = 6101 (0.772 sec)\n",
      "INFO:tensorflow:global_step/sec: 134.749\n",
      "INFO:tensorflow:loss = 31.689228, step = 6201 (0.750 sec)\n",
      "INFO:tensorflow:global_step/sec: 109.044\n",
      "INFO:tensorflow:loss = 21.045092, step = 6301 (0.909 sec)\n",
      "INFO:tensorflow:global_step/sec: 129.961\n",
      "INFO:tensorflow:loss = 33.464127, step = 6401 (0.766 sec)\n",
      "INFO:tensorflow:global_step/sec: 135.937\n",
      "INFO:tensorflow:loss = 32.779144, step = 6501 (0.743 sec)\n",
      "INFO:tensorflow:global_step/sec: 137.161\n",
      "INFO:tensorflow:loss = 47.435284, step = 6601 (0.726 sec)\n",
      "INFO:tensorflow:global_step/sec: 132.714\n",
      "INFO:tensorflow:loss = 56.88082, step = 6701 (0.757 sec)\n",
      "INFO:tensorflow:global_step/sec: 108.863\n",
      "INFO:tensorflow:loss = 36.35124, step = 6801 (0.911 sec)\n",
      "INFO:tensorflow:global_step/sec: 106.832\n",
      "INFO:tensorflow:loss = 27.252321, step = 6901 (0.943 sec)\n",
      "INFO:tensorflow:global_step/sec: 113.423\n",
      "INFO:tensorflow:loss = 65.01012, step = 7001 (0.878 sec)\n",
      "INFO:tensorflow:global_step/sec: 134.76\n",
      "INFO:tensorflow:loss = 44.83423, step = 7101 (0.743 sec)\n",
      "INFO:tensorflow:global_step/sec: 147.548\n",
      "INFO:tensorflow:loss = 108.98407, step = 7201 (0.673 sec)\n",
      "INFO:tensorflow:global_step/sec: 136.598\n",
      "INFO:tensorflow:loss = 25.352402, step = 7301 (0.736 sec)\n",
      "INFO:tensorflow:global_step/sec: 146.513\n",
      "INFO:tensorflow:loss = 75.2587, step = 7401 (0.679 sec)\n",
      "INFO:tensorflow:global_step/sec: 146.375\n",
      "INFO:tensorflow:loss = 36.696476, step = 7501 (0.688 sec)\n",
      "INFO:tensorflow:global_step/sec: 146.055\n",
      "INFO:tensorflow:loss = 41.401016, step = 7601 (0.685 sec)\n",
      "INFO:tensorflow:global_step/sec: 151.225\n",
      "INFO:tensorflow:loss = 124.42503, step = 7701 (0.659 sec)\n",
      "INFO:tensorflow:global_step/sec: 149.606\n",
      "INFO:tensorflow:loss = 62.13405, step = 7801 (0.672 sec)\n",
      "INFO:tensorflow:global_step/sec: 138.475\n",
      "INFO:tensorflow:loss = 36.579918, step = 7901 (0.716 sec)\n",
      "INFO:tensorflow:global_step/sec: 133.425\n"
     ]
    },
    {
     "name": "stdout",
     "output_type": "stream",
     "text": [
      "INFO:tensorflow:loss = 36.061943, step = 8001 (0.752 sec)\n",
      "INFO:tensorflow:global_step/sec: 115.407\n",
      "INFO:tensorflow:loss = 169.25981, step = 8101 (0.868 sec)\n",
      "INFO:tensorflow:global_step/sec: 114.491\n",
      "INFO:tensorflow:loss = 88.29726, step = 8201 (0.868 sec)\n",
      "INFO:tensorflow:global_step/sec: 104.694\n",
      "INFO:tensorflow:loss = 194.325, step = 8301 (0.955 sec)\n",
      "INFO:tensorflow:global_step/sec: 149.641\n",
      "INFO:tensorflow:loss = 38.35014, step = 8401 (0.671 sec)\n",
      "INFO:tensorflow:global_step/sec: 150.426\n",
      "INFO:tensorflow:loss = 146.12318, step = 8501 (0.661 sec)\n",
      "INFO:tensorflow:global_step/sec: 149.807\n",
      "INFO:tensorflow:loss = 42.312317, step = 8601 (0.670 sec)\n",
      "INFO:tensorflow:global_step/sec: 148.107\n",
      "INFO:tensorflow:loss = 33.03941, step = 8701 (0.674 sec)\n",
      "INFO:tensorflow:global_step/sec: 110.778\n",
      "INFO:tensorflow:loss = 27.651098, step = 8801 (0.903 sec)\n",
      "INFO:tensorflow:global_step/sec: 107.446\n",
      "INFO:tensorflow:loss = 36.53605, step = 8901 (0.934 sec)\n",
      "INFO:tensorflow:global_step/sec: 146.254\n",
      "INFO:tensorflow:loss = 39.49791, step = 9001 (0.684 sec)\n",
      "INFO:tensorflow:global_step/sec: 126.123\n",
      "INFO:tensorflow:loss = 31.207455, step = 9101 (0.790 sec)\n",
      "INFO:tensorflow:global_step/sec: 115.534\n",
      "INFO:tensorflow:loss = 26.298033, step = 9201 (0.870 sec)\n",
      "INFO:tensorflow:global_step/sec: 102.106\n",
      "INFO:tensorflow:loss = 38.43456, step = 9301 (0.978 sec)\n",
      "INFO:tensorflow:global_step/sec: 124.556\n",
      "INFO:tensorflow:loss = 33.017097, step = 9401 (0.801 sec)\n",
      "INFO:tensorflow:global_step/sec: 110.346\n",
      "INFO:tensorflow:loss = 30.549969, step = 9501 (0.910 sec)\n",
      "INFO:tensorflow:global_step/sec: 97.1553\n",
      "INFO:tensorflow:loss = 28.883493, step = 9601 (1.028 sec)\n",
      "INFO:tensorflow:global_step/sec: 114.2\n",
      "INFO:tensorflow:loss = 132.78093, step = 9701 (0.872 sec)\n",
      "INFO:tensorflow:global_step/sec: 119.51\n",
      "INFO:tensorflow:loss = 107.24806, step = 9801 (0.837 sec)\n",
      "INFO:tensorflow:global_step/sec: 149.531\n",
      "INFO:tensorflow:loss = 36.025192, step = 9901 (0.674 sec)\n",
      "INFO:tensorflow:Saving checkpoints for 10000 into C:\\Users\\MYLENO~1\\AppData\\Local\\Temp\\tmpwfccwn6e\\model.ckpt.\n",
      "INFO:tensorflow:Loss for final step: 31.966698.\n"
     ]
    },
    {
     "data": {
      "text/plain": [
       "<tensorflow.python.estimator.canned.linear.LinearClassifier at 0x16e4fbae7f0>"
      ]
     },
     "execution_count": 23,
     "metadata": {},
     "output_type": "execute_result"
    }
   ],
   "source": [
    "model.train(input_fn=input_func, steps=10000)"
   ]
  },
  {
   "cell_type": "code",
   "execution_count": 24,
   "metadata": {},
   "outputs": [],
   "source": [
    "pred_fun = tf.estimator.inputs.pandas_input_fn(x= X_test, batch_size=len(X_test), shuffle=False)"
   ]
  },
  {
   "cell_type": "code",
   "execution_count": 25,
   "metadata": {},
   "outputs": [
    {
     "name": "stdout",
     "output_type": "stream",
     "text": [
      "INFO:tensorflow:Calling model_fn.\n",
      "INFO:tensorflow:Done calling model_fn.\n",
      "INFO:tensorflow:Graph was finalized.\n",
      "INFO:tensorflow:Restoring parameters from C:\\Users\\MYLENO~1\\AppData\\Local\\Temp\\tmpwfccwn6e\\model.ckpt-10000\n",
      "INFO:tensorflow:Running local_init_op.\n",
      "INFO:tensorflow:Done running local_init_op.\n"
     ]
    }
   ],
   "source": [
    "prediction = list(model.predict(input_fn=pred_fun))"
   ]
  },
  {
   "cell_type": "code",
   "execution_count": 27,
   "metadata": {},
   "outputs": [
    {
     "data": {
      "text/plain": [
       "{'logits': array([-0.9463726], dtype=float32),\n",
       " 'logistic': array([0.2796149], dtype=float32),\n",
       " 'probabilities': array([0.72038513, 0.27961493], dtype=float32),\n",
       " 'class_ids': array([0], dtype=int64),\n",
       " 'classes': array([b'0'], dtype=object)}"
      ]
     },
     "execution_count": 27,
     "metadata": {},
     "output_type": "execute_result"
    }
   ],
   "source": [
    "prediction[0]"
   ]
  },
  {
   "cell_type": "code",
   "execution_count": 28,
   "metadata": {},
   "outputs": [],
   "source": [
    "final_preds = []\n",
    "for pred in prediction:\n",
    "    final_preds.append(pred['class_ids'][0])"
   ]
  },
  {
   "cell_type": "code",
   "execution_count": 30,
   "metadata": {},
   "outputs": [
    {
     "data": {
      "text/plain": [
       "[0, 0, 0, 0, 1, 0, 0, 0, 0, 0]"
      ]
     },
     "execution_count": 30,
     "metadata": {},
     "output_type": "execute_result"
    }
   ],
   "source": [
    "final_preds[:10]"
   ]
  },
  {
   "cell_type": "code",
   "execution_count": 31,
   "metadata": {},
   "outputs": [],
   "source": [
    "from sklearn.metrics import classification_report"
   ]
  },
  {
   "cell_type": "code",
   "execution_count": 33,
   "metadata": {},
   "outputs": [
    {
     "name": "stdout",
     "output_type": "stream",
     "text": [
      "             precision    recall  f1-score   support\n",
      "\n",
      "          0       0.88      0.92      0.90      7436\n",
      "          1       0.72      0.62      0.66      2333\n",
      "\n",
      "avg / total       0.85      0.85      0.85      9769\n",
      "\n"
     ]
    }
   ],
   "source": [
    "print(classification_report(y_test,final_preds))"
   ]
  },
  {
   "cell_type": "code",
   "execution_count": null,
   "metadata": {},
   "outputs": [],
   "source": []
  }
 ],
 "metadata": {
  "kernelspec": {
   "display_name": "Python 3",
   "language": "python",
   "name": "python3"
  },
  "language_info": {
   "codemirror_mode": {
    "name": "ipython",
    "version": 3
   },
   "file_extension": ".py",
   "mimetype": "text/x-python",
   "name": "python",
   "nbconvert_exporter": "python",
   "pygments_lexer": "ipython3",
   "version": "3.6.5"
  }
 },
 "nbformat": 4,
 "nbformat_minor": 2
}
