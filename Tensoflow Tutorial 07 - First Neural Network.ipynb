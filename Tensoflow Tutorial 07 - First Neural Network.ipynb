{
  "nbformat": 4,
  "nbformat_minor": 0,
  "metadata": {
    "colab": {
      "name": "Untitled4.ipynb",
      "provenance": [],
      "authorship_tag": "ABX9TyN241cEqyoLLmW2lhb1ctQG",
      "include_colab_link": true
    },
    "kernelspec": {
      "name": "python3",
      "display_name": "Python 3"
    },
    "accelerator": "GPU"
  },
  "cells": [
    {
      "cell_type": "markdown",
      "metadata": {
        "id": "view-in-github",
        "colab_type": "text"
      },
      "source": [
        "<a href=\"https://colab.research.google.com/github/MachineLearnWithRosh/FunWithTensorflow/blob/master/Tensoflow%20Tutorial%2007%20-%20First%20Neural%20Network.ipynb\" target=\"_parent\"><img src=\"https://colab.research.google.com/assets/colab-badge.svg\" alt=\"Open In Colab\"/></a>"
      ]
    },
    {
      "cell_type": "markdown",
      "metadata": {
        "id": "kHxGmHPcIb1H",
        "colab_type": "text"
      },
      "source": [
        "**Tensorflow : First Neural Network**"
      ]
    },
    {
      "cell_type": "code",
      "metadata": {
        "id": "7iL34N3sIZir",
        "colab_type": "code",
        "colab": {}
      },
      "source": [
        "import tensorflow as tf\n",
        "\n",
        "tf.compat.v1.disable_eager_execution()"
      ],
      "execution_count": 0,
      "outputs": []
    },
    {
      "cell_type": "code",
      "metadata": {
        "id": "iAQQMBsEIqWg",
        "colab_type": "code",
        "colab": {}
      },
      "source": [
        "import numpy as np\n"
      ],
      "execution_count": 0,
      "outputs": []
    },
    {
      "cell_type": "code",
      "metadata": {
        "id": "jc-EUtDdI6NH",
        "colab_type": "code",
        "colab": {}
      },
      "source": [
        "n_f = 10 #lets us have 10 no of features\n",
        "n_d_n = 3 #Number of neurons"
      ],
      "execution_count": 0,
      "outputs": []
    },
    {
      "cell_type": "code",
      "metadata": {
        "id": "xVKhbvhEJJWm",
        "colab_type": "code",
        "colab": {}
      },
      "source": [
        "x = tf.compat.v1.placeholder(tf.float32,shape=(None, n_f))"
      ],
      "execution_count": 0,
      "outputs": []
    },
    {
      "cell_type": "code",
      "metadata": {
        "id": "CFakcEyrJYq4",
        "colab_type": "code",
        "colab": {}
      },
      "source": [
        "b = tf.Variable(tf.zeros([n_d_n])) #bias\n",
        "\n",
        "w = tf.Variable(tf.random.normal([n_f,n_d_n])) #weights"
      ],
      "execution_count": 0,
      "outputs": []
    },
    {
      "cell_type": "code",
      "metadata": {
        "id": "kPARden6KyFa",
        "colab_type": "code",
        "colab": {}
      },
      "source": [
        "#y = mx + c\n",
        "\n",
        "xw=tf.matmul(x,w)"
      ],
      "execution_count": 0,
      "outputs": []
    },
    {
      "cell_type": "code",
      "metadata": {
        "id": "SYDNMuyNLi14",
        "colab_type": "code",
        "colab": {}
      },
      "source": [
        "z = tf.add(xw,b)"
      ],
      "execution_count": 0,
      "outputs": []
    },
    {
      "cell_type": "code",
      "metadata": {
        "id": "wTmz0n3ALqn-",
        "colab_type": "code",
        "colab": {}
      },
      "source": [
        "#Activation Function\n",
        "\n",
        "a=tf.sigmoid(z)"
      ],
      "execution_count": 0,
      "outputs": []
    },
    {
      "cell_type": "code",
      "metadata": {
        "id": "lIr4bU1lL2UK",
        "colab_type": "code",
        "colab": {}
      },
      "source": [
        "#Variable init\n",
        "init= tf.compat.v1.global_variables_initializer()"
      ],
      "execution_count": 0,
      "outputs": []
    },
    {
      "cell_type": "code",
      "metadata": {
        "id": "K7saA4XEMAvv",
        "colab_type": "code",
        "colab": {}
      },
      "source": [
        "with tf.compat.v1.Session() as sess:\n",
        "  sess.run(init)\n",
        "  layer_out=sess.run(a,feed_dict={x:np.random.random([3,n_f])})\n"
      ],
      "execution_count": 0,
      "outputs": []
    },
    {
      "cell_type": "code",
      "metadata": {
        "id": "-ioCj8U2ODbL",
        "colab_type": "code",
        "colab": {
          "base_uri": "https://localhost:8080/",
          "height": 67
        },
        "outputId": "7b607d88-4d80-4d81-aeba-a618cc4a2e73"
      },
      "source": [
        "print(layer_out)"
      ],
      "execution_count": 31,
      "outputs": [
        {
          "output_type": "stream",
          "text": [
            "[[0.84268415 0.72015244 0.8744448 ]\n",
            " [0.97302455 0.660656   0.8940393 ]\n",
            " [0.91864693 0.6822253  0.7667512 ]]\n"
          ],
          "name": "stdout"
        }
      ]
    },
    {
      "cell_type": "code",
      "metadata": {
        "id": "S09TL49kOWPd",
        "colab_type": "code",
        "colab": {}
      },
      "source": [
        ""
      ],
      "execution_count": 0,
      "outputs": []
    }
  ]
}